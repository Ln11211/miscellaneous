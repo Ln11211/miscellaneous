{
 "cells": [
  {
   "cell_type": "code",
   "execution_count": 31,
   "metadata": {},
   "outputs": [],
   "source": [
    "import tensorflow as tf\n",
    "import pandas as pd\n",
    "import numpy as np\n",
    "import os\n",
    "from tensorflow import keras\n",
    "from keras.layers import Dense,MaxPooling1D,InputLayer,Dropout\n",
    "from keras.models import Sequential"
   ]
  },
  {
   "cell_type": "code",
   "execution_count": 32,
   "metadata": {},
   "outputs": [],
   "source": [
    "data=pd.read_csv('Data.csv')\n",
    "data.drop_duplicates(['RANK'],inplace=True)\n",
    "# Combine 'BRANCH' and 'COLLEGE' columns into 'target'\n",
    "data['target'] = data['COLLEGE'] + '_' + data['BRANCH']\n",
    "\n",
    "# Drop 'CANDIDATE NAME' column\n",
    "data.drop(['CANDIDATE NAME','COLLEGE','BRANCH',], axis=1, inplace=True)"
   ]
  },
  {
   "cell_type": "code",
   "execution_count": 33,
   "metadata": {},
   "outputs": [
    {
     "name": "stdout",
     "output_type": "stream",
     "text": [
      "   RANK GENDER REGION CATEGORY SEAT CATEGORY  target\n",
      "0   144      M     OU     BC_B     OC_GEN_UR     534\n",
      "1   233      M     OU     BC_D     OC_GEN_UR     534\n",
      "2   243      M     OU     BC_B   BC_B_GEN_UR     534\n",
      "3   286      M     OU       OC    EWS_GEN_UR     534\n",
      "4   318      M     OU     BC_D   BC_D_GEN_OU     291\n"
     ]
    }
   ],
   "source": [
    "from sklearn.pipeline import Pipeline\n",
    "from sklearn.compose import ColumnTransformer\n",
    "from sklearn.preprocessing import LabelEncoder\n",
    "from sklearn.preprocessing import OneHotEncoder\n",
    "from sklearn.neighbors import KNeighborsClassifier\n",
    "le=LabelEncoder()\n",
    "data['target']=le.fit_transform(data['target'])\n",
    "#columns_to_encode = ['GENDER', 'REGION', 'CATEGORY', 'SEAT CATEGORY']\n",
    "columns_to_encode = ['SEAT CATEGORY','GENDER', 'REGION', 'CATEGORY']\n",
    "\n",
    "print(data.head())\n",
    "# Define the columns to be encoded and the columns to be skipped\n",
    "transfor = Pipeline([\n",
    "    ('encoding', ColumnTransformer([('one_hot_encoding', OneHotEncoder(), columns_to_encode)], remainder='passthrough'))\n",
    "])\n",
    "\n",
    "data_trans=transfor.fit_transform(data.drop('target',axis=1))"
   ]
  },
  {
   "cell_type": "code",
   "execution_count": 34,
   "metadata": {},
   "outputs": [
    {
     "name": "stdout",
     "output_type": "stream",
     "text": [
      "<class 'scipy.sparse._csr.csr_matrix'>\n"
     ]
    },
    {
     "data": {
      "text/plain": [
       "numpy.ndarray"
      ]
     },
     "execution_count": 34,
     "metadata": {},
     "output_type": "execute_result"
    }
   ],
   "source": [
    "print(type(data_trans))\n",
    "data_trans=data_trans.toarray()\n",
    "type(data_trans)"
   ]
  },
  {
   "cell_type": "code",
   "execution_count": 97,
   "metadata": {},
   "outputs": [],
   "source": [
    "model=Sequential([\n",
    "    InputLayer(input_shape=(211,)),\n",
    "    Dense(units=512,activation='relu'),\n",
    "\n",
    "    Dropout(0.2),\n",
    "    Dense(units=256,activation='relu'),\n",
    "\n",
    "    Dropout(0.2),\n",
    "    Dense(units=128,activation='relu'),\n",
    "\n",
    "    Dropout(0.2),\n",
    "    Dense(units=256,activation='relu'),\n",
    "\n",
    "    Dropout(0.2),\n",
    "    Dense(units=512,activation='relu'),\n",
    "    \n",
    "    Dropout(0.2),\n",
    "    Dense(units=799,activation='softmax'),\n",
    "])"
   ]
  },
  {
   "cell_type": "code",
   "execution_count": 98,
   "metadata": {},
   "outputs": [
    {
     "name": "stdout",
     "output_type": "stream",
     "text": [
      "Model: \"sequential_15\"\n",
      "_________________________________________________________________\n",
      " Layer (type)                Output Shape              Param #   \n",
      "=================================================================\n",
      " dense_97 (Dense)            (None, 512)               108544    \n",
      "                                                                 \n",
      " dropout_80 (Dropout)        (None, 512)               0         \n",
      "                                                                 \n",
      " dense_98 (Dense)            (None, 256)               131328    \n",
      "                                                                 \n",
      " dropout_81 (Dropout)        (None, 256)               0         \n",
      "                                                                 \n",
      " dense_99 (Dense)            (None, 128)               32896     \n",
      "                                                                 \n",
      " dropout_82 (Dropout)        (None, 128)               0         \n",
      "                                                                 \n",
      " dense_100 (Dense)           (None, 256)               33024     \n",
      "                                                                 \n",
      " dropout_83 (Dropout)        (None, 256)               0         \n",
      "                                                                 \n",
      " dense_101 (Dense)           (None, 512)               131584    \n",
      "                                                                 \n",
      " dropout_84 (Dropout)        (None, 512)               0         \n",
      "                                                                 \n",
      " dense_102 (Dense)           (None, 799)               409887    \n",
      "                                                                 \n",
      "=================================================================\n",
      "Total params: 847,263\n",
      "Trainable params: 847,263\n",
      "Non-trainable params: 0\n",
      "_________________________________________________________________\n"
     ]
    }
   ],
   "source": [
    "model.summary()"
   ]
  },
  {
   "cell_type": "code",
   "execution_count": 101,
   "metadata": {},
   "outputs": [],
   "source": [
    "model.compile(optimizer='adam',loss='sparse_categorical_crossentropy',metrics=['accuracy'])"
   ]
  },
  {
   "cell_type": "code",
   "execution_count": 102,
   "metadata": {},
   "outputs": [
    {
     "name": "stdout",
     "output_type": "stream",
     "text": [
      "Epoch 1/10\n",
      "1541/1541 [==============================] - 20s 12ms/step - loss: 14.9268 - accuracy: 0.0061\n",
      "Epoch 2/10\n",
      "1541/1541 [==============================] - 19s 12ms/step - loss: 6.3569 - accuracy: 0.0061\n",
      "Epoch 3/10\n",
      "1541/1541 [==============================] - 19s 13ms/step - loss: 6.3409 - accuracy: 0.0064\n",
      "Epoch 4/10\n",
      "1541/1541 [==============================] - 20s 13ms/step - loss: 6.3544 - accuracy: 0.0063\n",
      "Epoch 5/10\n",
      "1541/1541 [==============================] - 18s 12ms/step - loss: 6.3376 - accuracy: 0.0065\n",
      "Epoch 6/10\n",
      "1541/1541 [==============================] - 19s 12ms/step - loss: 6.3335 - accuracy: 0.0066\n",
      "Epoch 7/10\n",
      "1541/1541 [==============================] - 21s 13ms/step - loss: 6.3303 - accuracy: 0.0062\n",
      "Epoch 8/10\n",
      "1541/1541 [==============================] - 20s 13ms/step - loss: 6.3367 - accuracy: 0.0065\n",
      "Epoch 9/10\n",
      "1541/1541 [==============================] - 19s 13ms/step - loss: 6.3328 - accuracy: 0.0061\n",
      "Epoch 10/10\n",
      "1541/1541 [==============================] - 22s 14ms/step - loss: 6.3283 - accuracy: 0.0066\n"
     ]
    },
    {
     "data": {
      "text/plain": [
       "<keras.callbacks.History at 0x13c806a3f70>"
      ]
     },
     "execution_count": 102,
     "metadata": {},
     "output_type": "execute_result"
    }
   ],
   "source": [
    "model.fit(data_trans,data['target'],epochs=10)"
   ]
  },
  {
   "cell_type": "code",
   "execution_count": 111,
   "metadata": {},
   "outputs": [
    {
     "name": "stdout",
     "output_type": "stream",
     "text": [
      "(211,)\n",
      "1/1 [==============================] - 0s 32ms/step\n",
      "['KMIT_CSE']\n"
     ]
    }
   ],
   "source": [
    "t=None\n",
    "t=[[22791,'F','OU','OC','OC_GIRLS_OU']]  #20k rank, girl\n",
    "t=pd.DataFrame(t,columns=['RANK','GENDER','REGION','CATEGORY','SEAT CATEGORY'])\n",
    "tt=None\n",
    "tt=transfor.transform(t)\n",
    "tt=tt[0].toarray()\n",
    "print(np.shape(tt[0]))\n",
    "print(le.inverse_transform( [np.argmax(model.predict(tt))]) )"
   ]
  },
  {
   "cell_type": "code",
   "execution_count": 108,
   "metadata": {},
   "outputs": [
    {
     "data": {
      "text/plain": [
       "<keras.engine.sequential.Sequential at 0x13c804918b0>"
      ]
     },
     "execution_count": 108,
     "metadata": {},
     "output_type": "execute_result"
    }
   ],
   "source": [
    "model.predict()"
   ]
  },
  {
   "cell_type": "code",
   "execution_count": null,
   "metadata": {},
   "outputs": [],
   "source": []
  }
 ],
 "metadata": {
  "kernelspec": {
   "display_name": "base",
   "language": "python",
   "name": "python3"
  },
  "language_info": {
   "codemirror_mode": {
    "name": "ipython",
    "version": 3
   },
   "file_extension": ".py",
   "mimetype": "text/x-python",
   "name": "python",
   "nbconvert_exporter": "python",
   "pygments_lexer": "ipython3",
   "version": "3.9.13"
  },
  "orig_nbformat": 4
 },
 "nbformat": 4,
 "nbformat_minor": 2
}
